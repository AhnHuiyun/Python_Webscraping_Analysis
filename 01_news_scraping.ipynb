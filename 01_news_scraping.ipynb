{
 "cells": [
  {
   "cell_type": "markdown",
   "id": "0e3940b1",
   "metadata": {},
   "source": [
    "# 1. Daum 뉴스기사 제목 스크래핑하기"
   ]
  },
  {
   "cell_type": "code",
   "execution_count": 2,
   "id": "e38d1307",
   "metadata": {},
   "outputs": [],
   "source": [
    "import requests\n",
    "import bs4\n",
    "\n",
    "from bs4 import BeautifulSoup\n"
   ]
  },
  {
   "cell_type": "markdown",
   "id": "74f5dad0",
   "metadata": {},
   "source": [
    "### 1-1) 아래의 url에서 뉴스기사의 링크와 제목을 출력하세요."
   ]
  },
  {
   "cell_type": "code",
   "execution_count": null,
   "id": "fcce3adb",
   "metadata": {},
   "outputs": [
    {
     "name": "stdout",
     "output_type": "stream",
     "text": [
      "https://news.daum.net/economy\n",
      "<class 'requests.models.Response'>\n",
      "200\n",
      "<class 'bs4.element.ResultSet'> 9\n",
      "https://v.daum.net/v/20250408180205986\n",
      "[단독] \"돈 잘 버는 알짜부터\"…SK '몸값 5조' 실트론 매각한다\n",
      "https://v.daum.net/v/20250408175343664\n",
      "美·中 관세 폭탄 돌리기…‘새우등’ 한국 경제 불안감 더 커졌다\n",
      "https://v.daum.net/v/20250408175111585\n",
      "나랏빚 1175조 '역대 최대'…추경 재원 바닥\n",
      "https://v.daum.net/v/20250408174344325\n",
      "메디젠휴먼케어, \"23andMe 파산..한국 유전체 산업의 위기 아닌 기회\"\n",
      "https://v.daum.net/v/20250408173713085\n",
      "칩 확보서 데이터센터까지···전 산업에 'AI 고속도로' 깔아야\n",
      "https://v.daum.net/v/20250408173626057\n",
      "77년 묵은 정부조직, 데이터 중심 대수술···'AI 부총리' 도입을\n",
      "https://v.daum.net/v/20250408172845794\n",
      "[이슈ON] 마은혁 받고 '윤 절친' 이완규 투입...한덕수는 왜?\n",
      "https://v.daum.net/v/20250408161553109\n",
      "트럼프발 주가폭락에 동아 \"경제적 핵전쟁\" 조선 \"금융위기 후 최악\"\n",
      "https://v.daum.net/v/20250408160526681\n",
      "공황과 격변의 판도라 박스가 열리다\n"
     ]
    }
   ],
   "source": [
    "url = 'https://news.daum.net/economy'\n",
    "\n",
    "req_header = {\n",
    "    \"user-agent\": \"Mozilla/5.0 (Windows NT 10.0; Win64; x64) AppleWebKit/537.36 (KHTML, like Gecko) Chrome/104.0.0.0 Safari/537.36\"\n",
    "}\n",
    "\n",
    "res = requests.get(url, headers=req_header)\n",
    "\n",
    "print(url)\n",
    "print(type(res))\n",
    "print(res.status_code)\n",
    "\n",
    "if res.ok:\n",
    "    res.encoding = 'utf-8'  \n",
    "    soup = BeautifulSoup(res.text, 'html.parser')\n",
    "\n",
    "    li_tags = soup.select('ul.list_newsheadline2 li')\n",
    "    print(type(li_tags), len(li_tags))\n",
    "\n",
    "    for li_tag in li_tags:\n",
    "        a_tag = li_tag.find('a')\n",
    "        link = a_tag['href']\n",
    "        \n",
    "        # strong_tags = li_tag.select('div.cont_thumb strong.tit_txt')[0] -> not safe\n",
    "        # if strong_tag: strong_tag = strong_tags[0]\n",
    "        strong_tag = li_tag.select_one('div.cont_thumb strong.tit_txt')\n",
    "        title = strong_tag.text.strip()\n",
    "        \n",
    "        print(link)\n",
    "        print(title)\n",
    "else:\n",
    "    print(f\"에러 코드 = {res.status_code}\")"
   ]
  },
  {
   "cell_type": "markdown",
   "id": "2107c87e",
   "metadata": {},
   "source": [
    "### 1-2) 여러개의 section 중 하나를 선택해서 url에서 뉴스기사의 링크와 제목을 출력하는 코드를 함수로 작성하기"
   ]
  },
  {
   "cell_type": "code",
   "execution_count": null,
   "id": "fc7438f0",
   "metadata": {},
   "outputs": [
    {
     "name": "stdout",
     "output_type": "stream",
     "text": [
      "======> https://news.daum.net/economy 경제 뉴스 <======\n",
      "https://v.daum.net/v/20250408183514025\n",
      "미·중 치킨게임…원화값 1473원대 추락, 글로벌 금융위기 후 최저 1달러=1473.2원. 8일 달러당 원화가치가 2009년 글로벌 금융위기 이후 가장 낮은 수준으로 추락했다. ‘패닉셀(공황 매도)’은 다소 진정됐지만 한국 금융시장은 살얼음판 위를 걷는 상황이다. 미국과 중국의 무역전쟁 2라운드가 양보 없는 ‘치킨 게임’으로 치닫고 있어서다. 이날 서울 외환시장에서 원화값은 오후 3시 30분(주간거래) 전날보다 달러당 중앙일보 1분 전\n",
      "https://v.daum.net/v/20250408175343664\n",
      "美·中 관세 폭탄 돌리기…‘새우등’ 한국 경제 불안감 더 커졌다 중앙일보 43분 전\n",
      "https://v.daum.net/v/20250408175111585\n",
      "동영상     나랏빚 1175조 '역대 최대'…추경 재원 바닥 한국경제TV 45분 전\n",
      "https://v.daum.net/v/20250408174344325\n",
      "메디젠휴먼케어, \"23andMe 파산..한국 유전체 산업의 위기 아닌 기회\" 머니투데이 53분 전\n",
      "https://v.daum.net/v/20250408173713085\n",
      "칩 확보서 데이터센터까지···전 산업에 'AI 고속도로' 깔아야 서울경제 59분 전\n",
      "https://v.daum.net/v/20250408173626057\n",
      "77년 묵은 정부조직, 데이터 중심 대수술···'AI 부총리' 도입을 서울경제 1시간 전\n",
      "https://v.daum.net/v/20250408172845794\n",
      "동영상     [이슈ON] 마은혁 받고 '윤 절친' 이완규 투입...한덕수는 왜? YTN 1시간 전\n",
      "https://v.daum.net/v/20250408161553109\n",
      "트럼프발 주가폭락에 동아 \"경제적 핵전쟁\" 조선 \"금융위기 후 최악\" 미디어오늘 2시간 전\n",
      "https://v.daum.net/v/20250408160526681\n",
      "공황과 격변의 판도라 박스가 열리다 프레시안 3시간 전\n",
      "\n",
      "======> https://news.daum.net/society 사회 뉴스 <======\n",
      "https://v.daum.net/v/20250408181101293\n",
      "계엄 문건, ‘세월호 7시간’처럼 봉인? 열쇠는 피의자 한덕수 대행 손에 윤석열 대통령 파면에 따라 대통령기록물 이관 작업도 본격화한 가운데, 12·3 비상계엄 사태 관련 문건이 ‘대통령지정기록물’로 지정될지 주목된다. 계엄 관련 국무회의록과 계엄 상황 일지 등이 대통령지정기록물로 지정되면, 이른바 ‘세월호 7시간’ 문건처럼 최대 30년간 봉인된다. 행정안전부에 따르면 대통령비서실과 국가안보실, 대통령경호처, 민주평화통일자문회의 서울신문 25분 전\n",
      "https://v.daum.net/v/20250408180753177\n",
      "\"봄, 보이지 않아도 보여요\" 시각장애인과 함께한 '봄꽃 축제' 더팩트 29분 전\n",
      "https://v.daum.net/v/20250408180435068\n",
      "\"시민의 승리, 민주주의 수호, 국가 정상화\" 기자협회보 32분 전\n",
      "https://v.daum.net/v/20250408180020921\n",
      "강동구, 고덕비즈밸리 개장 앞두고 교통·안전 현안 대비 촉각 뉴시스 36분 전\n",
      "https://v.daum.net/v/20250408175907845\n",
      "동영상     신문 인쇄 패러다임 바꾼다…한경 부평 윤전공장 Q&A [영상] 한국경제 37분 전\n",
      "https://v.daum.net/v/20250408175815817\n",
      "서울 첫 이케아, 오픈 전에 미리 가보니…초대형 고흐 그림도 중앙일보 38분 전\n",
      "https://v.daum.net/v/20250408175110584\n",
      "노인 간병, 이젠 AI가 효자 노릇할 것 매일경제 45분 전\n",
      "https://v.daum.net/v/20250408174205281\n",
      "\"법무부는 이주노동자에 대한 인간사냥 중단하라\" 오마이뉴스 54분 전\n",
      "https://v.daum.net/v/20250408173904152\n",
      "재선 노린 표심잡기용? 전남도교육청, 조직개편안 놓고 노조 '반발' 프레시안 57분 전\n"
     ]
    }
   ],
   "source": [
    "section_dict = {\n",
    "    \"기후/환경\": \"climate\",\n",
    "    \"사회\": \"society\",\n",
    "    \"경제\": \"economy\",\n",
    "    \"정치\": \"politics\",\n",
    "    \"국제제\": \"world\",\n",
    "    \"문화\": \"culture\",\n",
    "    \"생활\": \"life\",\n",
    "    \"IT/과학\": \"tech\",\n",
    "    \"인물\": \"people\",\n",
    "}\n",
    "\n",
    "def print_news(section_name):\n",
    "    section_code = section_dict.get(section_name)\n",
    "    # if section is None: print('')\n",
    "\n",
    "    # else:\n",
    "    # req_param = { 'section' : section}\n",
    "    # url = 'https://news.daum.net/{section_code}'.format(**req_param) \n",
    "    url = f\"https://news.daum.net/{section_code}\"\n",
    "    print(f\"======> {url} {section_name} 뉴스 <======\")\n",
    "\n",
    "    req_header = {\n",
    "        \"user-agent\": \"Mozilla/5.0 (Windows NT 10.0; Win64; x64) AppleWebKit/537.36 (KHTML, like Gecko) Chrome/104.0.0.0 Safari/537.36\"\n",
    "    }\n",
    "\n",
    "    # requests 의 get() 함수 호출하기\n",
    "    res = requests.get(url, headers=req_header)\n",
    "    res.encoding = \"utf-8\"\n",
    "    \n",
    "    if res.ok:\n",
    "        soup = BeautifulSoup(res.text, \"html.parser\")\n",
    "        li_tags = soup.select(\"ul.list_newsheadline2 li\")\n",
    "\n",
    "        for li in li_tags:\n",
    "            a_tag = li.find(\"a\")\n",
    "            link = a_tag[\"href\"]\n",
    "            title = a_tag.text.strip()\n",
    "\n",
    "            print(link)\n",
    "            print(title)\n",
    "    else:\n",
    "        print(f\"에러 코드 = {res.status_code}\")\n",
    "\n",
    "\n",
    "print_news(\"경제\")\n",
    "print()\n",
    "print_news(\"사회\")"
   ]
  },
  {
   "cell_type": "markdown",
   "id": "e13c7ad0",
   "metadata": {},
   "source": [
    "### 2-1. Nate 뉴스기사 제목 스크래핑하기"
   ]
  },
  {
   "cell_type": "code",
   "execution_count": 20,
   "id": "8e1dbb99",
   "metadata": {},
   "outputs": [
    {
     "name": "stdout",
     "output_type": "stream",
     "text": [
      "\n",
      "=====> https://news.nate.com/recent?mid=n0100 (최신뉴스) 뉴스 <=====\n",
      "\n"
     ]
    },
    {
     "data": {
      "text/html": [
       "<img src=\"https://thumbnews.nateimg.co.kr/news90///news.nateimg.co.kr/orgImg/su/2025/04/09/740385_1180688_87.jpg\"/>"
      ],
      "text/plain": [
       "<IPython.core.display.Image object>"
      ]
     },
     "metadata": {},
     "output_type": "display_data"
    },
    {
     "name": "stdout",
     "output_type": "stream",
     "text": [
      "기사제목: 임종언·김길리, 쇼트트랙 1차 선발전 종합 1위…밀라노 올림픽 출전권 누가 차지할까?[스포티비뉴스=윤서영 기자] 2025-2026시즌 쇼트트랙 국가대표 1차 선발대회가 마무리됐다. 7일부터 9일까지 서울 양천구 목동아이스링크에서 열린 2025-2026시즌 쇼트트랙...\n",
      "기사사링크: https://news.nate.com/view/20250409n29024?mid=n0100\n",
      "\n"
     ]
    },
    {
     "data": {
      "text/html": [
       "<img src=\"https://thumbnews.nateimg.co.kr/news90///news.nateimg.co.kr/orgImg/se/2025/04/09/2GRGFFPB8Y_1.jpg\"/>"
      ],
      "text/plain": [
       "<IPython.core.display.Image object>"
      ]
     },
     "metadata": {},
     "output_type": "display_data"
    },
    {
     "name": "stdout",
     "output_type": "stream",
     "text": [
      "기사제목: 벚꽃길 따라 걷는 빛의 산책길···남양주시, 월문천 야간 조명 설치야관조명이 설치된 월문천 산책로. 사진 제공=남양주시[서울경제] 경기 남양주시는 와부읍 월문천 일원에 야간 경관조명을 설치하고, 도심 속 새로운 야경 명소를 조성했다...\n",
      "기사사링크: https://news.nate.com/view/20250409n33551?mid=n0100\n",
      "\n"
     ]
    },
    {
     "data": {
      "text/html": [
       "<img src=\"https://thumbnews.nateimg.co.kr/news90///news.nateimg.co.kr/orgImg/st/2025/04/09/09_997622_25351.jpg\"/>"
      ],
      "text/plain": [
       "<IPython.core.display.Image object>"
      ]
     },
     "metadata": {},
     "output_type": "display_data"
    },
    {
     "name": "stdout",
     "output_type": "stream",
     "text": [
      "기사제목: [ST포토] KCC 허웅, KBL 패셔니스타[스포츠투데이 팽현준 기자] KCC 허웅이 9일 서울 삼성동 그랜드 인터컨티넨탈 서울 파르나스에서 열린 2024-2025 KCC 프로농구 시상식에서 인기상을 수상하고 있다. 2025....\n",
      "기사사링크: https://news.nate.com/view/20250409n33550?mid=n0100\n",
      "\n",
      "\n",
      "=====> https://news.nate.com/recent?mid=n0200 (정치) 뉴스 <=====\n",
      "\n"
     ]
    },
    {
     "data": {
      "text/html": [
       "<img src=\"https://thumbnews.nateimg.co.kr/news90///news.nateimg.co.kr/orgImg/jo/2025/04/09/e2095b2b-4d34-4192-9ff4-5f162b8e3f3e.jpg\"/>"
      ],
      "text/plain": [
       "<IPython.core.display.Image object>"
      ]
     },
     "metadata": {},
     "output_type": "display_data"
    },
    {
     "name": "stdout",
     "output_type": "stream",
     "text": [
      "기사제목: 김문수 \"체제전쟁 물러서지 않겠다\" 출마…오세훈, 출마 확정김문수 전 고용노동부 장관이 9일 “대한민국의 정체성을 바로 세우겠다”며 6·3 대선 출마를 공식 선언했다. 출마 입장을 분명하게 밝히지 않던 오세훈 서울시장까지 13...\n",
      "기사사링크: https://news.nate.com/view/20250409n33556?mid=n0200\n",
      "\n"
     ]
    },
    {
     "data": {
      "text/html": [
       "<img src=\"https://thumbnews.nateimg.co.kr/news90///news.nateimg.co.kr/orgImg/ed/2025/04/09/PS25040901305.jpg\"/>"
      ],
      "text/plain": [
       "<IPython.core.display.Image object>"
      ]
     },
     "metadata": {},
     "output_type": "display_data"
    },
    {
     "name": "stdout",
     "output_type": "stream",
     "text": [
      "기사제목: [포토] 벚꽃과 어울어진 석촌호수 야경[이데일리 김태형 기자] 벚꽃이 만개한 8일 서울 송파구 석촌호수에서 시민들이 화려한 야간 조명과 함께 봄을 즐기고 있다.송파구(서강석 구청장)는 2일부터 6일까지 5일 ...\n",
      "기사사링크: https://news.nate.com/view/20250409n33531?mid=n0200\n",
      "\n",
      "[이미지 없음]\n",
      "기사제목: 국민의힘, 5대 은행장 만나 수출기업 지원 논의국회 정무위원회 소속 국민의힘 의원들은 서울 중구 은행연합회에서 5대 시중 은행장을 만나, 미국의 상호관세 부과와 환율 인상 등으로 인한 은행업계 상황을 공유하고 산업 경쟁력 강화를 위한 방안을 논의했습니...\n",
      "기사사링크: https://news.nate.com/view/20250409n33511?mid=n0200\n",
      "\n",
      "\n",
      "=====> https://news.nate.com/recent?mid=n0300 (경제) 뉴스 <=====\n",
      "\n"
     ]
    },
    {
     "data": {
      "text/html": [
       "<img src=\"https://thumbnews.nateimg.co.kr/news90///news.nateimg.co.kr/orgImg/fr/2025/04/09/art_682813_1744185440.png\"/>"
      ],
      "text/plain": [
       "<IPython.core.display.Image object>"
      ]
     },
     "metadata": {},
     "output_type": "display_data"
    },
    {
     "name": "stdout",
     "output_type": "stream",
     "text": [
      "기사제목: [카드] 에이비스 에디슨 어워드 은상 수상프라임경제 에이비스(대표 이대홍)의 갑상선암 진단 병리 AI 솔루션 '패소에이드 싸이로이드 디엑스'가 미국 플로리다에서 개최된 '2025 에디슨 어워드'에서 은상을 수상했...\n",
      "기사사링크: https://news.nate.com/view/20250409n33581?mid=n0300\n",
      "\n",
      "[이미지 없음]\n",
      "기사제목: 10일 홈플 변제안 제출일 김병주 사재출연 규모 주목홈플러스 사태와 관련해 국회와 투자자들이 MBK파트너스를 향해 변제안을 촉구하며 압박 수위를 높이고 있다. 10일까지 구체적인 피해 구제안을 제출하지 않으면 형사 고소하겠다는 방침이다. 9일 금융투자업계에 따...\n",
      "기사사링크: https://news.nate.com/view/20250409n33574?mid=n0300\n",
      "\n"
     ]
    },
    {
     "data": {
      "text/html": [
       "<img src=\"https://thumbnews.nateimg.co.kr/news90///news.nateimg.co.kr/orgImg/mk/2025/04/09/20250410_01110121000001_L00.jpg\"/>"
      ],
      "text/plain": [
       "<IPython.core.display.Image object>"
      ]
     },
     "metadata": {},
     "output_type": "display_data"
    },
    {
     "name": "stdout",
     "output_type": "stream",
     "text": [
      "기사제목: 트럼프 쇼크에 韓배터리 신용도 빨간불상호관세를 비롯한 '미국 우선주의 정책'으로 국내 2차전지 산업의 신용도가 흔들릴 수 있다는 진단이 나왔다. 자동차와 반도체 산업도 실적 저하가 예상되지만 신용도 저...\n",
      "기사사링크: https://news.nate.com/view/20250409n33573?mid=n0300\n",
      "\n",
      "\n",
      "=====> https://news.nate.com/recent?mid=n0400 (사회) 뉴스 <=====\n",
      "\n"
     ]
    },
    {
     "data": {
      "text/html": [
       "<img src=\"https://thumbnews.nateimg.co.kr/news90///news.nateimg.co.kr/orgImg/hn/2025/04/09/20250409503567.jpg\"/>"
      ],
      "text/plain": [
       "<IPython.core.display.Image object>"
      ]
     },
     "metadata": {},
     "output_type": "display_data"
    },
    {
     "name": "stdout",
     "output_type": "stream",
     "text": [
      "기사제목: 다시 고개드는 의대생 '강경론'에…학장들 \"정부, 내년 모집인원부터 확정해달라\"주요 의과대학 5곳의 학생 대표자들이 수업거부 투쟁을 지속하겠다고 밝히는 등 의대생들 사이에서 강경한 목소리가 나오고 있다. 의학교육계는 정부가 먼저 2026학년도 모...\n",
      "기사사링크: https://news.nate.com/view/20250409n33580?mid=n0400\n",
      "\n"
     ]
    },
    {
     "data": {
      "text/html": [
       "<img src=\"https://thumbnews.nateimg.co.kr/news90///news.nateimg.co.kr/orgImg/hn/2025/04/09/53_17441818578099_20250409502881.jpg\"/>"
      ],
      "text/plain": [
       "<IPython.core.display.Image object>"
      ]
     },
     "metadata": {},
     "output_type": "display_data"
    },
    {
     "name": "stdout",
     "output_type": "stream",
     "text": [
      "기사제목: 장제원 사건 피해자 \"성폭력 혐의 종결 안 돼…사회적 엄벌을\"“이 사건이 이대로 종결되는 것을 절대로 원하지 않습니다. 어떠한 사과도 받지 못하였고 사건이 일어난 시점부터 끝날 때까지 온전히 가해자 손에 의해 모든 것이 시작되...\n",
      "기사사링크: https://news.nate.com/view/20250409n28555?mid=n0400\n",
      "\n"
     ]
    },
    {
     "data": {
      "text/html": [
       "<img src=\"https://thumbnews.nateimg.co.kr/news90///news.nateimg.co.kr/orgImg/hn/2025/04/09/17441776961014_3517441776738313.jpg\"/>"
      ],
      "text/plain": [
       "<IPython.core.display.Image object>"
      ]
     },
     "metadata": {},
     "output_type": "display_data"
    },
    {
     "name": "stdout",
     "output_type": "stream",
     "text": [
      "기사제목: 문형배 울린 '김장하' 어게인…진짜 어른의 뒤를 따라갈 시간문형배 헌법재판소장 권한대행에게 장학금을 주며 지원한 김장하(81) 선생의 이야기가 윤석열 전 대통령 탄핵심판 선고를 계기로 다시 회자되면서, 그의 삶을 다룬 다큐멘...\n",
      "기사사링크: https://news.nate.com/view/20250409n23303?mid=n0400\n",
      "\n",
      "\n",
      "=====> https://news.nate.com/recent?mid=n0500 (세계) 뉴스 <=====\n",
      "\n"
     ]
    },
    {
     "data": {
      "text/html": [
       "<img src=\"https://thumbnews.nateimg.co.kr/news90///news.nateimg.co.kr/orgImg/hn/2025/04/09/17441721188183_20250409501837.jpg\"/>"
      ],
      "text/plain": [
       "<IPython.core.display.Image object>"
      ]
     },
     "metadata": {},
     "output_type": "display_data"
    },
    {
     "name": "stdout",
     "output_type": "stream",
     "text": [
      "기사제목: 미국, 한국 25% 등 상호관세 발효…중국엔 104%도널드 트럼프 미국 행정부가 동맹국, 적성국을 가리지 않고 60개 가까운 나라에 부과하겠다고 발표한 상호관세가 9일(현지시각) 실제 시행에 들어갔다. 모든 한국산 제품...\n",
      "기사사링크: https://news.nate.com/view/20250409n20099?mid=n0500\n",
      "\n"
     ]
    },
    {
     "data": {
      "text/html": [
       "<img src=\"https://thumbnews.nateimg.co.kr/news90///news.nateimg.co.kr/orgImg/yt/2025/04/09/PTA20250227058701009_P2.jpg\"/>"
      ],
      "text/plain": [
       "<IPython.core.display.Image object>"
      ]
     },
     "metadata": {},
     "output_type": "display_data"
    },
    {
     "name": "stdout",
     "output_type": "stream",
     "text": [
      "기사제목: 미러, 내일 이스탄불서 '외교 공관 정상화' 2차 협의\"우크라 상황 및 정치·안보 문제는 논의에 포함안돼\" (모스크바=연합뉴스) 최인영 특파원 = 도널드 트럼프 미국 행정부의 출범 이후 우크라이나 휴전 논의를 계기로 대화...\n",
      "기사사링크: https://news.nate.com/view/20250409n33497?mid=n0500\n",
      "\n"
     ]
    },
    {
     "data": {
      "text/html": [
       "<img src=\"https://thumbnews.nateimg.co.kr/news90///news.nateimg.co.kr/orgImg/na/2025/04/09/7227034_high.jpg\"/>"
      ],
      "text/plain": [
       "<IPython.core.display.Image object>"
      ]
     },
     "metadata": {},
     "output_type": "display_data"
    },
    {
     "name": "stdout",
     "output_type": "stream",
     "text": [
      "기사제목: 머스크 동생도 트럼프 '무역책사' 비난…\"학점으로 C- 받을 학생\"일론 머스크 테슬라 최고경영자(CEO) 동생인 킴벌 머스크 (사진=킴벌 머스크 엑스(X) 계정 갈무리) (서울=뉴스1) 김지완 기자 = 도널드 트럼프 미국 대통령의 최측근인 일...\n",
      "기사사링크: https://news.nate.com/view/20250409n33441?mid=n0500\n",
      "\n",
      "\n",
      "=====> https://news.nate.com/recent?mid=n0600 (IT/과학) 뉴스 <=====\n",
      "\n"
     ]
    },
    {
     "data": {
      "text/html": [
       "<img src=\"https://thumbnews.nateimg.co.kr/news90///news.nateimg.co.kr/orgImg/dn/2025/04/09/news_1744187278_1483728_m_1.jpeg\"/>"
      ],
      "text/plain": [
       "<IPython.core.display.Image object>"
      ]
     },
     "metadata": {},
     "output_type": "display_data"
    },
    {
     "name": "stdout",
     "output_type": "stream",
     "text": [
      "기사제목: '몸값 11조' 카카오엔터 매각설에…카카오, \"다양한 방안 검토 중\"카카오 판교 아지트.ⓒ연합뉴스 카카오가 카카오엔터테인먼트 지분 매각 추진 소문과 관련해 \"다양한 방안을 검토 중이지만 현재까지 확정된 사항은 없다\"는 입장을 냈다. ...\n",
      "기사사링크: https://news.nate.com/view/20250409n33529?mid=n0600\n",
      "\n"
     ]
    },
    {
     "data": {
      "text/html": [
       "<img src=\"https://thumbnews.nateimg.co.kr/news90///news.nateimg.co.kr/orgImg/in/2025/04/09/00add5da5381cf.jpg\"/>"
      ],
      "text/plain": [
       "<IPython.core.display.Image object>"
      ]
     },
     "metadata": {},
     "output_type": "display_data"
    },
    {
     "name": "stdout",
     "output_type": "stream",
     "text": [
      "기사제목: '구독형 서비스 이용자 만족도' 1위 네이버, 쿠팡과 격차 더 벌렸다[아이뉴스24 정유림 기자] 월 4900원을 내고 이용하는 구독형 서비스 네이버플러스 멤버십이 지난해 하반기 이용자 만족도에서 쿠팡을 제쳤다는 조사 결과가 나왔다.[사진=...\n",
      "기사사링크: https://news.nate.com/view/20250409n33520?mid=n0600\n",
      "\n"
     ]
    },
    {
     "data": {
      "text/html": [
       "<img src=\"https://thumbnews.nateimg.co.kr/news90///news.nateimg.co.kr/orgImg/in/2025/04/09/1ecd1d437e4804.jpg\"/>"
      ],
      "text/plain": [
       "<IPython.core.display.Image object>"
      ]
     },
     "metadata": {},
     "output_type": "display_data"
    },
    {
     "name": "stdout",
     "output_type": "stream",
     "text": [
      "기사제목: SK하이닉스 D램 첫 1위…AI 경쟁 1라운드 승자[아이뉴스24 박지은 기자] SK하이닉스가 사상 처음으로 글로벌 D램 시장점유율 1위에 올랐다는 조사 결과가 9일 나왔다.홍콩계 시장조사업체 카운터포인트리서치는 이날 발...\n",
      "기사사링크: https://news.nate.com/view/20250409n33518?mid=n0600\n",
      "\n"
     ]
    }
   ],
   "source": [
    "import requests\n",
    "from bs4 import BeautifulSoup\n",
    "from urllib.parse import urljoin\n",
    "from IPython.display import Image, display\n",
    "\n",
    "section_dict = {\n",
    "    \"최신뉴스\": \"n0100\",\n",
    "    \"정치\": \"n0200\",\n",
    "    \"경제\": \"n0300\",\n",
    "    \"사회\": \"n0400\",\n",
    "    \"세계\": \"n0500\",\n",
    "    \"IT/과학\": \"n0600\"\n",
    "}\n",
    "\n",
    "def print_all_nate_news():\n",
    "    headers = {\n",
    "        \"user-agent\": \"Mozilla/5.0 (Windows NT 10.0; Win64; x64) AppleWebKit/537.36 (KHTML, like Gecko) Chrome/104.0.0.0 Safari/537.36\"\n",
    "    }\n",
    "\n",
    "    for section_name, section_code in section_dict.items():\n",
    "        url = f\"https://news.nate.com/recent?mid={section_code}\"\n",
    "        print(f\"\\n=====> {url} ({section_name}) 뉴스 <=====\\n\")\n",
    "\n",
    "        response = requests.get(url, headers=headers)\n",
    "        response.encoding = \"euc-kr\"\n",
    "\n",
    "        if response.ok:\n",
    "\n",
    "            soup = BeautifulSoup(response.text, \"html.parser\")\n",
    "            news_list = soup.select(\"div.mlt01\")\n",
    "\n",
    "            for item in news_list[:3]:\n",
    "                title_tag = item.select_one(\"a\")\n",
    "                if not title_tag:\n",
    "                    continue\n",
    "                title = title_tag.get_text(strip=True)\n",
    "                link = title_tag['href']\n",
    "                full_link = urljoin(\"https://news.nate.com\", link)\n",
    "\n",
    "                img_tag = item.select_one(\"img\")\n",
    "                if img_tag and 'src' in img_tag.attrs:\n",
    "                    img_src = urljoin(\"https:\", img_tag['src'])\n",
    "                    display(Image(url=img_src))\n",
    "                else:\n",
    "                    print(\"[이미지 없음]\")\n",
    "\n",
    "                print(\"기사제목:\", title)\n",
    "                print(\"기사사링크:\", full_link)\n",
    "                print()\n",
    "        \n",
    "        else:\n",
    "            print(f\"에러 코드 = {res.status_code}\")\n",
    "\n",
    "print_all_nate_news()\n"
   ]
  },
  {
   "cell_type": "markdown",
   "id": "934310b9",
   "metadata": {},
   "source": [
    "### 2-2. 하나의 네이버 웹툰과 1개의 회차에 대한 Image 다운로드 하기"
   ]
  },
  {
   "cell_type": "code",
   "execution_count": 34,
   "id": "650e34a1",
   "metadata": {},
   "outputs": [
    {
     "name": "stdout",
     "output_type": "stream",
     "text": [
      "[다운로드 완료] img-ctguide-white_new.png\n",
      "[다운로드 완료] 20160616123837_08e322fa0ffdcb84da9ff3cd7893013c_IMAG01_2.jpg\n",
      "[다운로드 완료] 20160616123837_08e322fa0ffdcb84da9ff3cd7893013c_IMAG01_3.jpg\n",
      "[다운로드 완료] 20160616123837_08e322fa0ffdcb84da9ff3cd7893013c_IMAG01_4.jpg\n",
      "[다운로드 완료] 20160616123837_08e322fa0ffdcb84da9ff3cd7893013c_IMAG01_5.jpg\n",
      "[다운로드 완료] 20160616123837_08e322fa0ffdcb84da9ff3cd7893013c_IMAG01_6.jpg\n",
      "[다운로드 완료] 20160616123837_08e322fa0ffdcb84da9ff3cd7893013c_IMAG01_7.jpg\n",
      "[다운로드 완료] 20160616123837_08e322fa0ffdcb84da9ff3cd7893013c_IMAG01_8.jpg\n"
     ]
    }
   ],
   "source": [
    "import os\n",
    "import requests\n",
    "from bs4 import BeautifulSoup\n",
    "\n",
    "def download_one_episode(title, no, url):\n",
    "    headers = {\n",
    "        \"User-Agent\": \"Mozilla/5.0 (Windows NT 10.0; Win64; x64) AppleWebKit/537.36 (KHTML, like Gecko) Chrome/109.0.0.0 Safari/537.36\"\n",
    "    }\n",
    "\n",
    "    # 저장 디렉토리 생성\n",
    "    save_dir = os.path.join(\"img\", title, str(no))\n",
    "    os.makedirs(save_dir, exist_ok=True)\n",
    "\n",
    "    res = requests.get(url, headers=headers)\n",
    "\n",
    "    if res.ok:\n",
    "\n",
    "        soup = BeautifulSoup(res.text, \"html.parser\")\n",
    "        \n",
    "        image_tags = soup.select(\"div#sectionContWide img\")\n",
    "\n",
    "        for idx, img_tag in enumerate(image_tags, start=1):\n",
    "            img_url = img_tag.get(\"src\")\n",
    "\n",
    "            img_name = os.path.basename(img_url)\n",
    "            img_path = os.path.join(save_dir, img_name)\n",
    "            \n",
    "            img_data = requests.get(img_url, headers=headers).content\n",
    "            with open(img_path, \"wb\") as file:\n",
    "                file.write(img_data)\n",
    "            print(f\"[다운로드 완료] {img_name}\")\n",
    "\n",
    "    else:\n",
    "        print(f\"에러 코드 = {res.status_code}\")\n",
    "\n",
    "download_one_episode(\n",
    "    '대학일기',\n",
    "    6,\n",
    "    'https://comic.naver.com/webtoon/detail?titleId=679519&no=6&week=finish'\n",
    ")\n"
   ]
  }
 ],
 "metadata": {
  "kernelspec": {
   "display_name": "base",
   "language": "python",
   "name": "python3"
  },
  "language_info": {
   "codemirror_mode": {
    "name": "ipython",
    "version": 3
   },
   "file_extension": ".py",
   "mimetype": "text/x-python",
   "name": "python",
   "nbconvert_exporter": "python",
   "pygments_lexer": "ipython3",
   "version": "3.12.7"
  }
 },
 "nbformat": 4,
 "nbformat_minor": 5
}
