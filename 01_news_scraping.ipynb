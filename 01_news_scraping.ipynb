{
 "cells": [
  {
   "cell_type": "code",
   "execution_count": null,
   "id": "f81de903",
   "metadata": {},
   "outputs": [],
   "source": [
    "## 1. Daum 뉴스기사 제목 스크래핑하기"
   ]
  },
  {
   "cell_type": "code",
   "execution_count": 2,
   "id": "e38d1307",
   "metadata": {},
   "outputs": [],
   "source": [
    "import requests\n",
    "import bs4\n",
    "\n",
    "from bs4 import BeautifulSoup\n"
   ]
  },
  {
   "cell_type": "code",
   "execution_count": null,
   "id": "28b65970",
   "metadata": {},
   "outputs": [],
   "source": [
    "# 1-1) 아래의 url에서 뉴스기사의 링크와 제목을 출력하세요."
   ]
  },
  {
   "cell_type": "code",
   "execution_count": 20,
   "id": "fcce3adb",
   "metadata": {},
   "outputs": [
    {
     "name": "stdout",
     "output_type": "stream",
     "text": [
      "https://news.daum.net/economy\n",
      "<class 'requests.models.Response'>\n",
      "200\n",
      "<class 'bs4.element.ResultSet'> 9\n",
      "https://v.daum.net/v/20250408180205986\n",
      "[단독] \"돈 잘 버는 알짜부터\"…SK '몸값 5조' 실트론 매각한다\n",
      "https://v.daum.net/v/20250408175343664\n",
      "美·中 관세 폭탄 돌리기…‘새우등’ 한국 경제 불안감 더 커졌다\n",
      "https://v.daum.net/v/20250408175111585\n",
      "나랏빚 1175조 '역대 최대'…추경 재원 바닥\n",
      "https://v.daum.net/v/20250408174344325\n",
      "메디젠휴먼케어, \"23andMe 파산..한국 유전체 산업의 위기 아닌 기회\"\n",
      "https://v.daum.net/v/20250408173713085\n",
      "칩 확보서 데이터센터까지···전 산업에 'AI 고속도로' 깔아야\n",
      "https://v.daum.net/v/20250408173626057\n",
      "77년 묵은 정부조직, 데이터 중심 대수술···'AI 부총리' 도입을\n",
      "https://v.daum.net/v/20250408172845794\n",
      "[이슈ON] 마은혁 받고 '윤 절친' 이완규 투입...한덕수는 왜?\n",
      "https://v.daum.net/v/20250408161553109\n",
      "트럼프발 주가폭락에 동아 \"경제적 핵전쟁\" 조선 \"금융위기 후 최악\"\n",
      "https://v.daum.net/v/20250408160526681\n",
      "공황과 격변의 판도라 박스가 열리다\n"
     ]
    }
   ],
   "source": [
    "url = 'https://news.daum.net/economy'\n",
    "\n",
    "req_header = {\n",
    "    \"user-agent\": \"Mozilla/5.0 (Windows NT 10.0; Win64; x64) AppleWebKit/537.36 (KHTML, like Gecko) Chrome/104.0.0.0 Safari/537.36\"\n",
    "}\n",
    "\n",
    "res = requests.get(url, headers=req_header)\n",
    "res.encoding = 'utf-8'  \n",
    "\n",
    "print(url)\n",
    "print(type(res))\n",
    "print(res.status_code)\n",
    "\n",
    "if res.ok:\n",
    "    soup = BeautifulSoup(res.text, 'html.parser')\n",
    "\n",
    "    li_tags = soup.select('ul.list_newsheadline2 li')\n",
    "    print(type(li_tags), len(li_tags))\n",
    "\n",
    "    for li_tag in li_tags:\n",
    "        a_tag = li_tag.find('a')\n",
    "        link = a_tag['href']\n",
    "        \n",
    "        strong_tag = li_tag.select_one('div.cont_thumb strong.tit_txt')\n",
    "        title = strong_tag.text.strip()\n",
    "        \n",
    "        print(link)\n",
    "        print(title)\n",
    "else:\n",
    "    print(f\"에러 코드 = {res.status_code}\")"
   ]
  },
  {
   "cell_type": "code",
   "execution_count": null,
   "id": "7378f86b",
   "metadata": {},
   "outputs": [],
   "source": [
    "# 1-2) 여러개의 section 중 하나를 선택해서 url에서 뉴스기사의 링크와 제목을 출력하는 코드를 함수로 작성하기"
   ]
  },
  {
   "cell_type": "code",
   "execution_count": 30,
   "id": "fc7438f0",
   "metadata": {},
   "outputs": [
    {
     "name": "stdout",
     "output_type": "stream",
     "text": [
      "======> https://news.daum.net/economy 경제 뉴스 <======\n",
      "https://v.daum.net/v/20250408183514025\n",
      "미·중 치킨게임…원화값 1473원대 추락, 글로벌 금융위기 후 최저 1달러=1473.2원. 8일 달러당 원화가치가 2009년 글로벌 금융위기 이후 가장 낮은 수준으로 추락했다. ‘패닉셀(공황 매도)’은 다소 진정됐지만 한국 금융시장은 살얼음판 위를 걷는 상황이다. 미국과 중국의 무역전쟁 2라운드가 양보 없는 ‘치킨 게임’으로 치닫고 있어서다. 이날 서울 외환시장에서 원화값은 오후 3시 30분(주간거래) 전날보다 달러당 중앙일보 1분 전\n",
      "https://v.daum.net/v/20250408175343664\n",
      "美·中 관세 폭탄 돌리기…‘새우등’ 한국 경제 불안감 더 커졌다 중앙일보 43분 전\n",
      "https://v.daum.net/v/20250408175111585\n",
      "동영상     나랏빚 1175조 '역대 최대'…추경 재원 바닥 한국경제TV 45분 전\n",
      "https://v.daum.net/v/20250408174344325\n",
      "메디젠휴먼케어, \"23andMe 파산..한국 유전체 산업의 위기 아닌 기회\" 머니투데이 53분 전\n",
      "https://v.daum.net/v/20250408173713085\n",
      "칩 확보서 데이터센터까지···전 산업에 'AI 고속도로' 깔아야 서울경제 59분 전\n",
      "https://v.daum.net/v/20250408173626057\n",
      "77년 묵은 정부조직, 데이터 중심 대수술···'AI 부총리' 도입을 서울경제 1시간 전\n",
      "https://v.daum.net/v/20250408172845794\n",
      "동영상     [이슈ON] 마은혁 받고 '윤 절친' 이완규 투입...한덕수는 왜? YTN 1시간 전\n",
      "https://v.daum.net/v/20250408161553109\n",
      "트럼프발 주가폭락에 동아 \"경제적 핵전쟁\" 조선 \"금융위기 후 최악\" 미디어오늘 2시간 전\n",
      "https://v.daum.net/v/20250408160526681\n",
      "공황과 격변의 판도라 박스가 열리다 프레시안 3시간 전\n",
      "\n",
      "======> https://news.daum.net/society 사회 뉴스 <======\n",
      "https://v.daum.net/v/20250408181101293\n",
      "계엄 문건, ‘세월호 7시간’처럼 봉인? 열쇠는 피의자 한덕수 대행 손에 윤석열 대통령 파면에 따라 대통령기록물 이관 작업도 본격화한 가운데, 12·3 비상계엄 사태 관련 문건이 ‘대통령지정기록물’로 지정될지 주목된다. 계엄 관련 국무회의록과 계엄 상황 일지 등이 대통령지정기록물로 지정되면, 이른바 ‘세월호 7시간’ 문건처럼 최대 30년간 봉인된다. 행정안전부에 따르면 대통령비서실과 국가안보실, 대통령경호처, 민주평화통일자문회의 서울신문 25분 전\n",
      "https://v.daum.net/v/20250408180753177\n",
      "\"봄, 보이지 않아도 보여요\" 시각장애인과 함께한 '봄꽃 축제' 더팩트 29분 전\n",
      "https://v.daum.net/v/20250408180435068\n",
      "\"시민의 승리, 민주주의 수호, 국가 정상화\" 기자협회보 32분 전\n",
      "https://v.daum.net/v/20250408180020921\n",
      "강동구, 고덕비즈밸리 개장 앞두고 교통·안전 현안 대비 촉각 뉴시스 36분 전\n",
      "https://v.daum.net/v/20250408175907845\n",
      "동영상     신문 인쇄 패러다임 바꾼다…한경 부평 윤전공장 Q&A [영상] 한국경제 37분 전\n",
      "https://v.daum.net/v/20250408175815817\n",
      "서울 첫 이케아, 오픈 전에 미리 가보니…초대형 고흐 그림도 중앙일보 38분 전\n",
      "https://v.daum.net/v/20250408175110584\n",
      "노인 간병, 이젠 AI가 효자 노릇할 것 매일경제 45분 전\n",
      "https://v.daum.net/v/20250408174205281\n",
      "\"법무부는 이주노동자에 대한 인간사냥 중단하라\" 오마이뉴스 54분 전\n",
      "https://v.daum.net/v/20250408173904152\n",
      "재선 노린 표심잡기용? 전남도교육청, 조직개편안 놓고 노조 '반발' 프레시안 57분 전\n"
     ]
    }
   ],
   "source": [
    "section_dict = {\n",
    "    \"기후/환경\": \"climate\",\n",
    "    \"사회\": \"society\",\n",
    "    \"경제\": \"economy\",\n",
    "    \"정치\": \"politics\",\n",
    "    \"국재\": \"world\",\n",
    "    \"문화\": \"culture\",\n",
    "    \"생활\": \"life\",\n",
    "    \"IT/과학\": \"tech\",\n",
    "    \"인물\": \"people\",\n",
    "}\n",
    "\n",
    "def print_news(section_name):\n",
    "    section_code = section_dict.get(section_name)\n",
    "\n",
    "    url = f\"https://news.daum.net/{section_code}\"\n",
    "    print(f\"======> {url} {section_name} 뉴스 <======\")\n",
    "\n",
    "    req_header = {\n",
    "        \"user-agent\": \"Mozilla/5.0 (Windows NT 10.0; Win64; x64) AppleWebKit/537.36 (KHTML, like Gecko) Chrome/104.0.0.0 Safari/537.36\"\n",
    "    }\n",
    "\n",
    "    # requests 의 get() 함수 호출하기\n",
    "    res = requests.get(url, headers=req_header)\n",
    "    res.encoding = \"utf-8\"\n",
    "    \n",
    "    if res.ok:\n",
    "        soup = BeautifulSoup(res.text, \"html.parser\")\n",
    "        li_tags = soup.select(\"ul.list_newsheadline2 li\")\n",
    "\n",
    "        for li in li_tags:\n",
    "            a_tag = li.find(\"a\")\n",
    "            link = a_tag[\"href\"]\n",
    "            title = a_tag.text.strip()\n",
    "\n",
    "            print(link)\n",
    "            print(title)\n",
    "    else:\n",
    "        print(f\"에러 코드 = {res.status_code}\")\n",
    "\n",
    "\n",
    "print_news(\"경제\")\n",
    "print()\n",
    "print_news(\"사회\")"
   ]
  }
 ],
 "metadata": {
  "kernelspec": {
   "display_name": "Python 3",
   "language": "python",
   "name": "python3"
  },
  "language_info": {
   "codemirror_mode": {
    "name": "ipython",
    "version": 3
   },
   "file_extension": ".py",
   "mimetype": "text/x-python",
   "name": "python",
   "nbconvert_exporter": "python",
   "pygments_lexer": "ipython3",
   "version": "3.12.7"
  }
 },
 "nbformat": 4,
 "nbformat_minor": 5
}
